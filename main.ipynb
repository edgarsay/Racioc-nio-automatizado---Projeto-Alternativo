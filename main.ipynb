{
 "cells": [
  {
   "cell_type": "code",
   "execution_count": 28,
   "metadata": {},
   "outputs": [],
   "source": [
    "import pandas as pd"
   ]
  },
  {
   "cell_type": "code",
   "execution_count": 29,
   "metadata": {},
   "outputs": [],
   "source": [
    "#file_name = 'column_bin_10a_10p.csv'\n",
    "#file_name = 'column_bin_11a_14p.csv'\n",
    "#file_name = 'column_bin_11a_15p.csv'\n",
    "#file_name = 'column_bin_12a_16p.csv'\n",
    "#file_name = 'column_bin_15a_19p.csv'\n",
    "#file_name = 'column_bin_16a_23p.csv'\n",
    "#file_name = 'column_bin_18a_28p.csv'\n",
    "#file_name = 'column_bin_20a_30p.csv'\n",
    "#file_name = 'column_bin_36a_155p_test.csv'\n",
    "#file_name = 'column_bin_36a_155p.csv'\n",
    "#file_name = 'column_bin_3a_2p.csv'\n",
    "#file_name = 'column_bin_3a_3p.csv'\n",
    "#file_name = 'column_bin_3a_4p.csv'\n",
    "#file_name = 'column_bin_3a_5p.csv'\n",
    "#file_name = 'column_bin_3a_6p.csv'\n",
    "#file_name = 'column_bin_5a_3p.csv'\n",
    "#file_name = 'column_bin_6a_6p.csv'\n",
    "#file_name = 'column_bin_8a_8p.csv'\n",
    "file_name = 'test.csv'\n",
    "data = pd.read_csv('./Arquivos - Pacientes/'+file_name)"
   ]
  },
  {
   "cell_type": "code",
   "execution_count": 30,
   "metadata": {},
   "outputs": [
    {
     "data": {
      "text/html": [
       "<div>\n",
       "<style scoped>\n",
       "    .dataframe tbody tr th:only-of-type {\n",
       "        vertical-align: middle;\n",
       "    }\n",
       "\n",
       "    .dataframe tbody tr th {\n",
       "        vertical-align: top;\n",
       "    }\n",
       "\n",
       "    .dataframe thead th {\n",
       "        text-align: right;\n",
       "    }\n",
       "</style>\n",
       "<table border=\"1\" class=\"dataframe\">\n",
       "  <thead>\n",
       "    <tr style=\"text-align: right;\">\n",
       "      <th></th>\n",
       "      <th>PI &lt;= 42.09</th>\n",
       "      <th>PI &lt;= 70.62</th>\n",
       "      <th>GS &lt;= 37.89</th>\n",
       "      <th>P</th>\n",
       "    </tr>\n",
       "  </thead>\n",
       "  <tbody>\n",
       "    <tr>\n",
       "      <th>0</th>\n",
       "      <td>0</td>\n",
       "      <td>1</td>\n",
       "      <td>0</td>\n",
       "      <td>1</td>\n",
       "    </tr>\n",
       "    <tr>\n",
       "      <th>1</th>\n",
       "      <td>0</td>\n",
       "      <td>0</td>\n",
       "      <td>0</td>\n",
       "      <td>1</td>\n",
       "    </tr>\n",
       "    <tr>\n",
       "      <th>2</th>\n",
       "      <td>0</td>\n",
       "      <td>0</td>\n",
       "      <td>1</td>\n",
       "      <td>0</td>\n",
       "    </tr>\n",
       "  </tbody>\n",
       "</table>\n",
       "</div>"
      ],
      "text/plain": [
       "   PI <= 42.09  PI <= 70.62  GS <= 37.89  P\n",
       "0            0            1            0  1\n",
       "1            0            0            0  1\n",
       "2            0            0            1  0"
      ]
     },
     "execution_count": 30,
     "metadata": {},
     "output_type": "execute_result"
    }
   ],
   "source": [
    "data"
   ]
  },
  {
   "cell_type": "code",
   "execution_count": 31,
   "metadata": {},
   "outputs": [],
   "source": [
    "variables_map = ['0']\n",
    "def var_to_number(var:str):\n",
    "    if variables_map.__contains__(var):\n",
    "        return variables_map.index(var)\n",
    "    variables_map.append(var)\n",
    "    return len(variables_map) - 1\n",
    "def number_to_var(index:int):\n",
    "    if index < len(variables_map):\n",
    "        return variables_map[index]\n",
    "    return 'Unknown'\n"
   ]
  },
  {
   "cell_type": "code",
   "execution_count": 32,
   "metadata": {},
   "outputs": [],
   "source": [
    "def remove_spaces(s:str):\n",
    "    return s.replace(' ', '')\n",
    "variables = list(map(remove_spaces, list(data.keys()))) # atributes\n",
    "pacients = data.values # pacients vals\n",
    "m = len(variables[:-1]) - 1 # number of rules\n",
    "rules = list(map(str,range(1,m+1))) # range astype string"
   ]
  },
  {
   "cell_type": "code",
   "execution_count": 33,
   "metadata": {},
   "outputs": [],
   "source": [
    "from pysat.formula import CNF\n",
    "cnf = CNF()"
   ]
  },
  {
   "cell_type": "code",
   "execution_count": 34,
   "metadata": {},
   "outputs": [
    {
     "name": "stdout",
     "output_type": "stream",
     "text": [
      "(X{PI<=42.09,1,p V X{PI<=42.09,1,n V X{PI<=42.09,1,s)\n",
      "(-X{PI<=42.09,1,p V -X{PI<=42.09,1,n)\n",
      "(-X{PI<=42.09,1,p V -X{PI<=42.09,1,s)\n",
      "(-X{PI<=42.09,1,n V -X{PI<=42.09,1,s)\n",
      "(X{PI<=42.09,2,p V X{PI<=42.09,2,n V X{PI<=42.09,2,s)\n",
      "(-X{PI<=42.09,2,p V -X{PI<=42.09,2,n)\n",
      "(-X{PI<=42.09,2,p V -X{PI<=42.09,2,s)\n",
      "(-X{PI<=42.09,2,n V -X{PI<=42.09,2,s)\n",
      "(X{PI<=70.62,1,p V X{PI<=70.62,1,n V X{PI<=70.62,1,s)\n",
      "(-X{PI<=70.62,1,p V -X{PI<=70.62,1,n)\n",
      "(-X{PI<=70.62,1,p V -X{PI<=70.62,1,s)\n",
      "(-X{PI<=70.62,1,n V -X{PI<=70.62,1,s)\n",
      "(X{PI<=70.62,2,p V X{PI<=70.62,2,n V X{PI<=70.62,2,s)\n",
      "(-X{PI<=70.62,2,p V -X{PI<=70.62,2,n)\n",
      "(-X{PI<=70.62,2,p V -X{PI<=70.62,2,s)\n",
      "(-X{PI<=70.62,2,n V -X{PI<=70.62,2,s)\n",
      "(X{GS<=37.89,1,p V X{GS<=37.89,1,n V X{GS<=37.89,1,s)\n",
      "(-X{GS<=37.89,1,p V -X{GS<=37.89,1,n)\n",
      "(-X{GS<=37.89,1,p V -X{GS<=37.89,1,s)\n",
      "(-X{GS<=37.89,1,n V -X{GS<=37.89,1,s)\n",
      "(X{GS<=37.89,2,p V X{GS<=37.89,2,n V X{GS<=37.89,2,s)\n",
      "(-X{GS<=37.89,2,p V -X{GS<=37.89,2,n)\n",
      "(-X{GS<=37.89,2,p V -X{GS<=37.89,2,s)\n",
      "(-X{GS<=37.89,2,n V -X{GS<=37.89,2,s)\n"
     ]
    }
   ],
   "source": [
    "#Restrição 1\n",
    "for variable in variables[:-1]:\n",
    "    for rule in rules:\n",
    "        p = 'X{'+variable+','+rule+','+'p'\n",
    "        n = 'X{'+variable+','+rule+','+'n'\n",
    "        s = 'X{'+variable+','+rule+','+'s'\n",
    "        # at least one must be True\n",
    "        print('('+p+' V '+n+' V '+s+')')\n",
    "        # at least two must be False\n",
    "        print(('(-'+p+' V -'+n+')'))\n",
    "        print(('(-'+p+' V -'+s+')'))\n",
    "        print(('(-'+n+' V -'+s+')'))"
   ]
  },
  {
   "cell_type": "code",
   "execution_count": 35,
   "metadata": {},
   "outputs": [
    {
     "name": "stdout",
     "output_type": "stream",
     "text": [
      "[1, 2, 3]\n",
      "[-1, -2]\n",
      "[-1, -3]\n",
      "[-2, -3]\n",
      "[4, 5, 6]\n",
      "[-4, -5]\n",
      "[-4, -6]\n",
      "[-5, -6]\n",
      "[7, 8, 9]\n",
      "[-7, -8]\n",
      "[-7, -9]\n",
      "[-8, -9]\n",
      "[10, 11, 12]\n",
      "[-10, -11]\n",
      "[-10, -12]\n",
      "[-11, -12]\n",
      "[13, 14, 15]\n",
      "[-13, -14]\n",
      "[-13, -15]\n",
      "[-14, -15]\n",
      "[16, 17, 18]\n",
      "[-16, -17]\n",
      "[-16, -18]\n",
      "[-17, -18]\n"
     ]
    }
   ],
   "source": [
    "#Restrição 1 -> PySAT\n",
    "for variable in variables[:-1]:\n",
    "    for rule in rules:\n",
    "        p = var_to_number('X{'+variable+','+rule+','+'p}')\n",
    "        n = var_to_number('X{'+variable+','+rule+','+'n}')\n",
    "        s = var_to_number('X{'+variable+','+rule+','+'s}')\n",
    "        # at least one must be true\n",
    "        # p V n V s\n",
    "        cnf.append([p, n, s])\n",
    "        print([p, n, s])\n",
    "        # at least two must be false\n",
    "        # -p V -n ^ -p V -s ^ -n V -s\n",
    "        # -p V -n\n",
    "        cnf.append([-p, -n])\n",
    "        print([-p, -n])\n",
    "        #-p V -s\n",
    "        cnf.append([-p, -s])\n",
    "        print([-p, -s])\n",
    "        #-n V -s\n",
    "        cnf.append([-n, -s])\n",
    "        print([-n, -s])"
   ]
  },
  {
   "cell_type": "code",
   "execution_count": 36,
   "metadata": {},
   "outputs": [
    {
     "name": "stdout",
     "output_type": "stream",
     "text": [
      "(¬X{PI<=42.09,1,s} V ¬X{PI<=70.62,1,s} V ¬X{GS<=37.89,1,s})\n",
      "(¬X{PI<=42.09,2,s} V ¬X{PI<=70.62,2,s} V ¬X{GS<=37.89,2,s})\n"
     ]
    }
   ],
   "source": [
    "#Restrição 2\n",
    "for rule in rules:\n",
    "    print('(¬X{'+ variables[0] +','+ rule +',s}', end='')\n",
    "    for v in variables[1:-1]:\n",
    "        print(' V ¬X{'+ v +','+ rule +',s}', end='')\n",
    "    print(')')"
   ]
  },
  {
   "cell_type": "code",
   "execution_count": 37,
   "metadata": {},
   "outputs": [
    {
     "name": "stdout",
     "output_type": "stream",
     "text": [
      "[-3, -9, -15]\n",
      "[-6, -12, -18]\n"
     ]
    }
   ],
   "source": [
    "#Restrição 2 -> PySAT\n",
    "for rule in rules:\n",
    "    clause = []\n",
    "    for variable in variables[:-1]:\n",
    "        clause.append(-var_to_number('X{'+ variable +','+ rule +',s}'))\n",
    "    cnf.append(clause)\n",
    "    print(clause)"
   ]
  },
  {
   "cell_type": "code",
   "execution_count": 38,
   "metadata": {},
   "outputs": [
    {
     "name": "stdout",
     "output_type": "stream",
     "text": [
      "(X{PI<=42.09,1,p} V X{PI<=70.62,1,p} V X{GS<=37.89,1,n})\n",
      "(X{PI<=42.09,2,p} V X{PI<=70.62,2,p} V X{GS<=37.89,2,n})\n"
     ]
    }
   ],
   "source": [
    "#Restrição 3\n",
    "for pacient in pacients:\n",
    "    if pacient[-1] == 0:# for each pacient without pathology\n",
    "        variables_value = ['p' for i in range(len(variables)-1)]\n",
    "        for index, value in enumerate(pacient):\n",
    "            if value == 1:\n",
    "                variables_value[index] = 'n'\n",
    "        for rule in rules:# some atribute of this pacient must no be applied\n",
    "            print('(X{'+ variables[0] +','+ rule+','+ variables_value[0] +'}', end='')\n",
    "            for index, variable in enumerate(variables[1:-1]):\n",
    "                print(' V X{'+ variable +','+ rule +','+ variables_value[index+1] +'}', end='')\n",
    "            print(')')"
   ]
  },
  {
   "cell_type": "code",
   "execution_count": 39,
   "metadata": {},
   "outputs": [
    {
     "name": "stdout",
     "output_type": "stream",
     "text": [
      "[1, 7, 14]\n",
      "[4, 10, 17]\n"
     ]
    }
   ],
   "source": [
    "#Restrição 3 -> PySAT\n",
    "for pacient in pacients:\n",
    "    if pacient[-1] == 0:\n",
    "        variables_value = ['p' for i in range(len(variables)-1)]\n",
    "        for index, value in enumerate(pacient):\n",
    "            if value == 1:\n",
    "                variables_value[index] = 'n'\n",
    "        for rule in rules:\n",
    "            clause = []\n",
    "            for index, variable in enumerate(variables[0:-1]):\n",
    "                clause.append(var_to_number('X{'+ variable +','+ rule +','+ variables_value[index] +'}'))\n",
    "            cnf.append(clause)\n",
    "            print(clause)"
   ]
  },
  {
   "cell_type": "code",
   "execution_count": 40,
   "metadata": {},
   "outputs": [
    {
     "name": "stdout",
     "output_type": "stream",
     "text": [
      "(X{PI<=42.09,1,p}→¬c1,1) ∧ (X{PI<=70.62,1,n}→¬c1,1) ∧ (X{GS<=37.89,1,p}→¬c1,1)\n",
      "(X{PI<=42.09,1,p}→¬c1,2) ∧ (X{PI<=70.62,1,p}→¬c1,2) ∧ (X{GS<=37.89,1,p}→¬c1,2)\n",
      "(X{PI<=42.09,2,p}→¬c2,1) ∧ (X{PI<=70.62,2,n}→¬c2,1) ∧ (X{GS<=37.89,2,p}→¬c2,1)\n",
      "(X{PI<=42.09,2,p}→¬c2,2) ∧ (X{PI<=70.62,2,p}→¬c2,2) ∧ (X{GS<=37.89,2,p}→¬c2,2)\n"
     ]
    }
   ],
   "source": [
    "#Restrição 4\n",
    "def format_R4(var, rule, pacient_val, pacient_number, first=False):\n",
    "    pacient_val = 'n' if pacient_val == 1 else 'p'\n",
    "    result = '(X{'+var+','+rule+','+pacient_val+'}→¬c'+rule+','+pacient_number+')'\n",
    "    if first:\n",
    "        return result\n",
    "    return ' ∧ ' + result\n",
    "\n",
    "for rule in rules:\n",
    "    for pac_n, pac in enumerate(pacients):\n",
    "        if pac[-1] == 0: # checking if the pacient has pathology\n",
    "            continue\n",
    "        pac_n = str(pac_n+1) # turn pacient number to string\n",
    "\n",
    "        for var_index, var_value in enumerate(pac[0:-1]):\n",
    "            print(format_R4(variables[var_index], rule, var_value, pac_n, var_index == 0), end='')\n",
    "        print()"
   ]
  },
  {
   "cell_type": "code",
   "execution_count": 41,
   "metadata": {},
   "outputs": [
    {
     "name": "stdout",
     "output_type": "stream",
     "text": [
      "[-1, -19]\n",
      "[-8, -19]\n",
      "[-13, -19]\n",
      "[-1, -20]\n",
      "[-7, -20]\n",
      "[-13, -20]\n",
      "[-4, -21]\n",
      "[-11, -21]\n",
      "[-16, -21]\n",
      "[-4, -22]\n",
      "[-10, -22]\n",
      "[-16, -22]\n"
     ]
    }
   ],
   "source": [
    "#Restrição 4 -> PySAT\n",
    "# Here we need put the implication in pacient_numverbCNF format.\n",
    "# So, replacing a → b with ¬a V b, [-a, b] in the pySAT format\n",
    "for rule in rules:\n",
    "    for pacient_number, pac in enumerate(pacients):\n",
    "        if pac[-1] == 0: # checking if the pacient has pathology\n",
    "            continue\n",
    "        pacient_number = str(pacient_number+1) # turn pacient number to string\n",
    "        for var_index, var_value in enumerate(pac[0:-1]):\n",
    "            clause = []\n",
    "            var_value = 'n' if var_value == 1 else 'p'\n",
    "            clause.append(-var_to_number('X{'+variables[var_index]+','+rule+','+var_value+'}'))\n",
    "            clause.append(-var_to_number('c'+rule+','+pacient_number))\n",
    "            cnf.append(clause)\n",
    "            print(clause)"
   ]
  },
  {
   "cell_type": "code",
   "execution_count": 42,
   "metadata": {},
   "outputs": [
    {
     "name": "stdout",
     "output_type": "stream",
     "text": [
      "(c1,1 V c2,1)\n",
      "(c1,2 V c2,2)\n"
     ]
    }
   ],
   "source": [
    "#Restrição 5\n",
    "for pac_n, pac in enumerate(pacients):\n",
    "    if pac[-1] == 0:\n",
    "        continue\n",
    "    pac_n += 1\n",
    "    print('(',end='')\n",
    "    print('c'+rules[0]+','+str(pac_n),end='')\n",
    "    for rule in rules[1:]:\n",
    "        print(' V c'+rule+','+str(pac_n),end='')\n",
    "    print(')')"
   ]
  },
  {
   "cell_type": "code",
   "execution_count": 43,
   "metadata": {},
   "outputs": [
    {
     "name": "stdout",
     "output_type": "stream",
     "text": [
      "[19, 21]\n",
      "[20, 22]\n",
      "[23, 24]\n"
     ]
    }
   ],
   "source": [
    "#Restrição 5 -> PySAT\n",
    "for pac_n in range(1, len(pacients) + 1):\n",
    "    clause = []\n",
    "    for rule in rules:\n",
    "        clause.append(var_to_number('c'+rule+','+str(pac_n)))\n",
    "    cnf.append(clause)\n",
    "    print(clause)"
   ]
  },
  {
   "cell_type": "code",
   "execution_count": 44,
   "metadata": {},
   "outputs": [],
   "source": [
    "# the standard way to import PySAT:\n",
    "from pysat.solvers import Solver"
   ]
  },
  {
   "cell_type": "code",
   "execution_count": 45,
   "metadata": {},
   "outputs": [],
   "source": [
    "#cnf.clauses"
   ]
  },
  {
   "cell_type": "code",
   "execution_count": 46,
   "metadata": {},
   "outputs": [
    {
     "name": "stdout",
     "output_type": "stream",
     "text": [
      "Satisfiability:\n",
      "X{PI<=42.09,1,n}\n",
      "X{PI<=42.09,2,p}\n",
      "X{PI<=70.62,1,s}\n",
      "X{PI<=70.62,2,p}\n",
      "X{GS<=37.89,1,n}\n",
      "X{GS<=37.89,2,p}\n",
      "c1,1\n",
      "c1,2\n",
      "c1,3\n"
     ]
    }
   ],
   "source": [
    "# create a SAT solver for this formula:\n",
    "extracted_model = []\n",
    "with Solver(bootstrap_with=cnf) as solver:\n",
    "    if(solver.solve()):\n",
    "        print('Satisfiability:')\n",
    "        for number in solver.get_model():\n",
    "            if number > 0:\n",
    "                var = number_to_var(number)\n",
    "                extracted_model.append(var)\n",
    "                print(var)\n",
    "    else:\n",
    "        print('Unsatisfiability')\n",
    "        () + 1 #stop execution"
   ]
  },
  {
   "cell_type": "code",
   "execution_count": 47,
   "metadata": {},
   "outputs": [],
   "source": [
    "extracted_rules = [[-1 for a in range(len(variables)-1)] for r in rules]\n",
    "def extract_rule(var:list):\n",
    "    rule_index = int(var[1])-1\n",
    "    atribute_index = variables.index(var[0])\n",
    "    value = var[2]\n",
    "    if value == 'p':\n",
    "        value = 1\n",
    "    elif value == 'n':\n",
    "        value = 0\n",
    "    else:\n",
    "        value = -1\n",
    "    extracted_rules[rule_index][atribute_index] = value"
   ]
  },
  {
   "cell_type": "code",
   "execution_count": 48,
   "metadata": {},
   "outputs": [],
   "source": [
    "# extract rules from the model\n",
    "if extracted_model != []:\n",
    "    for var in extracted_model:\n",
    "        if var[0] == 'X':\n",
    "            var = var[2:-1].split(',')\n",
    "            extract_rule(var)"
   ]
  },
  {
   "cell_type": "code",
   "execution_count": 49,
   "metadata": {},
   "outputs": [
    {
     "name": "stdout",
     "output_type": "stream",
     "text": [
      "Rule 0 ['PI>42.09', 'GS>37.89'] ⇒ P\n",
      "Rule 1 ['PI<=42.09', 'PI<=70.62', 'GS<=37.89'] ⇒ P\n"
     ]
    }
   ],
   "source": [
    "# display extracted rules\n",
    "def format_atribute(atribute:str, atribute_val:int):\n",
    "    return atribute if atribute_val == 1 else atribute.replace('<=', '>')\n",
    "\n",
    "text_rules = []\n",
    "for rule_index, extracted_rule in enumerate(extracted_rules):\n",
    "    extract_rule_formated = []\n",
    "    for atr_index, atr_value in enumerate(extracted_rule):\n",
    "        if atr_value == -1:\n",
    "            continue\n",
    "        atribute = variables[atr_index]\n",
    "        extract_rule_formated.append(format_atribute(atribute, atr_value))\n",
    "\n",
    "    text_rule = 'Rule '+str(rule_index)+' '+str(extract_rule_formated)+' ⇒ P'\n",
    "    print(text_rule)\n",
    "    text_rules.append(text_rule)\n"
   ]
  },
  {
   "cell_type": "code",
   "execution_count": 50,
   "metadata": {},
   "outputs": [],
   "source": [
    "#save extracted rule in 'arquivos_regras.txt'\n",
    "with open('./aquivos_e_regras.txt', 'a') as arquivos_e_regras:\n",
    "    arquivos_e_regras.write(file_name+':\\n')\n",
    "    for text_rule in text_rules:\n",
    "        arquivos_e_regras.write(text_rule.replace('⇒', '=>')+'\\n')"
   ]
  },
  {
   "cell_type": "code",
   "execution_count": 51,
   "metadata": {},
   "outputs": [
    {
     "data": {
      "text/html": [
       "<div>\n",
       "<style scoped>\n",
       "    .dataframe tbody tr th:only-of-type {\n",
       "        vertical-align: middle;\n",
       "    }\n",
       "\n",
       "    .dataframe tbody tr th {\n",
       "        vertical-align: top;\n",
       "    }\n",
       "\n",
       "    .dataframe thead th {\n",
       "        text-align: right;\n",
       "    }\n",
       "</style>\n",
       "<table border=\"1\" class=\"dataframe\">\n",
       "  <thead>\n",
       "    <tr style=\"text-align: right;\">\n",
       "      <th></th>\n",
       "      <th>PI &lt;= 42.09</th>\n",
       "      <th>PI &lt;= 70.62</th>\n",
       "      <th>GS &lt;= 37.89</th>\n",
       "      <th>P</th>\n",
       "    </tr>\n",
       "  </thead>\n",
       "  <tbody>\n",
       "    <tr>\n",
       "      <th>0</th>\n",
       "      <td>0</td>\n",
       "      <td>1</td>\n",
       "      <td>0</td>\n",
       "      <td>1</td>\n",
       "    </tr>\n",
       "    <tr>\n",
       "      <th>1</th>\n",
       "      <td>0</td>\n",
       "      <td>0</td>\n",
       "      <td>0</td>\n",
       "      <td>1</td>\n",
       "    </tr>\n",
       "    <tr>\n",
       "      <th>2</th>\n",
       "      <td>0</td>\n",
       "      <td>0</td>\n",
       "      <td>1</td>\n",
       "      <td>0</td>\n",
       "    </tr>\n",
       "  </tbody>\n",
       "</table>\n",
       "</div>"
      ],
      "text/plain": [
       "   PI <= 42.09  PI <= 70.62  GS <= 37.89  P\n",
       "0            0            1            0  1\n",
       "1            0            0            0  1\n",
       "2            0            0            1  0"
      ]
     },
     "execution_count": 51,
     "metadata": {},
     "output_type": "execute_result"
    }
   ],
   "source": [
    "data"
   ]
  },
  {
   "cell_type": "code",
   "execution_count": 52,
   "metadata": {},
   "outputs": [
    {
     "data": {
      "text/plain": [
       "[[0, -1, 0], [1, 1, 1]]"
      ]
     },
     "execution_count": 52,
     "metadata": {},
     "output_type": "execute_result"
    }
   ],
   "source": [
    "extracted_rules"
   ]
  },
  {
   "cell_type": "code",
   "execution_count": 53,
   "metadata": {},
   "outputs": [],
   "source": [
    "def classify_pacient(pacient:list, rule:list):\n",
    "    for i,p in enumerate(pacient):\n",
    "        if rule[i] == -1:\n",
    "            continue\n",
    "        if p != rule[i]:\n",
    "            return 0\n",
    "    return 1"
   ]
  },
  {
   "cell_type": "code",
   "execution_count": 54,
   "metadata": {},
   "outputs": [
    {
     "name": "stdout",
     "output_type": "stream",
     "text": [
      "Pacient 1 correcly classified\n",
      "Pacient 2 correcly classified\n",
      "Pacient 3 correcly classified\n"
     ]
    }
   ],
   "source": [
    "# test the extracted rules\n",
    "for pacient_index, pacient_atributes in enumerate(pacients):\n",
    "    pacient_with_pathology = 0\n",
    "    for rule_index, extracted_rule in enumerate(extracted_rules):\n",
    "        classifation = classify_pacient(pacient_atributes[:-1], extracted_rule)\n",
    "        if classifation == 1:\n",
    "            pacient_with_pathology = 1\n",
    "            break\n",
    "    if pacient_with_pathology != pacient_atributes[-1]:\n",
    "        print('Pacient '+str(pacient_index+1)+' misclassified as P = ' + str(classifation))\n",
    "        print(pacient_atributes)\n",
    "    else:\n",
    "        print('Pacient '+str(pacient_index+1)+' correcly classified')\n",
    "\n"
   ]
  }
 ],
 "metadata": {
  "kernelspec": {
   "display_name": "Python 3.7.9 ('env': venv)",
   "language": "python",
   "name": "python3"
  },
  "language_info": {
   "codemirror_mode": {
    "name": "ipython",
    "version": 3
   },
   "file_extension": ".py",
   "mimetype": "text/x-python",
   "name": "python",
   "nbconvert_exporter": "python",
   "pygments_lexer": "ipython3",
   "version": "3.7.9"
  },
  "orig_nbformat": 4,
  "vscode": {
   "interpreter": {
    "hash": "0400862a12aec8e9d5f8d4b495a2be8a8c81e0d5f0c35e58ea91fec4f3f9a60c"
   }
  }
 },
 "nbformat": 4,
 "nbformat_minor": 2
}
